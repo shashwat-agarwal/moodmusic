{
  "nbformat": 4,
  "nbformat_minor": 5,
  "metadata": {
    "kernelspec": {
      "display_name": "Python 3 (ipykernel)",
      "language": "python",
      "name": "python3"
    },
    "language_info": {
      "codemirror_mode": {
        "name": "ipython",
        "version": 3
      },
      "file_extension": ".py",
      "mimetype": "text/x-python",
      "name": "python",
      "nbconvert_exporter": "python",
      "pygments_lexer": "ipython3",
      "version": "3.7.11"
    },
    "colab": {
      "name": "EMOTIONS.ipynb",
      "provenance": []
    }
  },
  "cells": [
    {
      "cell_type": "code",
      "metadata": {
        "id": "6f9ca967"
      },
      "source": [
        "################################ MUSIC RECOMMENDATION SYSTEM BASED ON EMOTION DETECTION ################################"
      ],
      "id": "6f9ca967",
      "execution_count": 1,
      "outputs": []
    },
    {
      "cell_type": "code",
      "metadata": {
        "colab": {
          "base_uri": "https://localhost:8080/"
        },
        "id": "ec21cd51",
        "outputId": "fbe5fdfc-9854-4f02-dc8b-4af094973b4e"
      },
      "source": [
        "from zipfile import ZipFile\n",
        "file_name = \"archive.zip\"\n",
        "with ZipFile(file_name, 'r') as zip:\n",
        "  zip.extractall()\n",
        "  print(\"Done\")"
      ],
      "id": "ec21cd51",
      "execution_count": 2,
      "outputs": [
        {
          "output_type": "stream",
          "name": "stdout",
          "text": [
            "Done\n"
          ]
        }
      ]
    },
    {
      "cell_type": "code",
      "metadata": {
        "id": "5aa9e715"
      },
      "source": [
        "import matplotlib.pyplot as plt\n",
        "import numpy as np\n",
        "import tensorflow as tf\n",
        "from keras.models import Sequential\n",
        "from keras.layers import Dense, Dropout, Flatten\n",
        "from keras.layers import Conv2D\n",
        "from tensorflow.keras.optimizers import Adam\n",
        "from keras.layers import MaxPooling2D\n",
        "from keras.preprocessing.image import ImageDataGenerator\n",
        "import cv2"
      ],
      "id": "5aa9e715",
      "execution_count": 3,
      "outputs": []
    },
    {
      "cell_type": "code",
      "metadata": {
        "id": "207915e8"
      },
      "source": [
        "train_img_datagen = ImageDataGenerator(rescale=1./255)\n",
        "val_img_datagen = ImageDataGenerator(rescale=1./255)"
      ],
      "id": "207915e8",
      "execution_count": 4,
      "outputs": []
    },
    {
      "cell_type": "code",
      "metadata": {
        "colab": {
          "base_uri": "https://localhost:8080/"
        },
        "id": "a9f3cf18",
        "outputId": "8dee361c-53fe-41b6-f391-711ef7f4583b"
      },
      "source": [
        "train_ds  = train_img_datagen.flow_from_directory(\n",
        "    'train',\n",
        "    target_size = (48, 48),\n",
        "    batch_size = 64,\n",
        "    color_mode = 'rgb',\n",
        "    class_mode='categorical')\n",
        "val_ds  = val_img_datagen.flow_from_directory(\n",
        "    'test',\n",
        "    target_size = (48, 48),\n",
        "    batch_size = 64,\n",
        "    color_mode = 'rgb',\n",
        "    class_mode='categorical')"
      ],
      "id": "a9f3cf18",
      "execution_count": 5,
      "outputs": [
        {
          "output_type": "stream",
          "name": "stdout",
          "text": [
            "Found 28709 images belonging to 7 classes.\n",
            "Found 7178 images belonging to 7 classes.\n"
          ]
        }
      ]
    },
    {
      "cell_type": "code",
      "metadata": {
        "colab": {
          "base_uri": "https://localhost:8080/"
        },
        "id": "0cbd0610",
        "outputId": "54c14cab-c0f0-4459-b84e-ac4eca6d58e0"
      },
      "source": [
        "print(val_ds.class_indices)"
      ],
      "id": "0cbd0610",
      "execution_count": 6,
      "outputs": [
        {
          "output_type": "stream",
          "name": "stdout",
          "text": [
            "{'angry': 0, 'disgust': 1, 'fear': 2, 'happy': 3, 'neutral': 4, 'sad': 5, 'surprise': 6}\n"
          ]
        }
      ]
    },
    {
      "cell_type": "code",
      "metadata": {
        "colab": {
          "base_uri": "https://localhost:8080/"
        },
        "id": "6648c95b",
        "outputId": "83e581f9-70b2-4614-da9c-8bcca8f544fc"
      },
      "source": [
        "base_model = tf.keras.applications.ResNet50(input_shape=(48,48,3),include_top=False, weights='imagenet')"
      ],
      "id": "6648c95b",
      "execution_count": 7,
      "outputs": [
        {
          "output_type": "stream",
          "name": "stdout",
          "text": [
            "Downloading data from https://storage.googleapis.com/tensorflow/keras-applications/resnet/resnet50_weights_tf_dim_ordering_tf_kernels_notop.h5\n",
            "94773248/94765736 [==============================] - 1s 0us/step\n",
            "94781440/94765736 [==============================] - 1s 0us/step\n"
          ]
        }
      ]
    },
    {
      "cell_type": "code",
      "metadata": {
        "id": "983818da"
      },
      "source": [
        "model = Sequential()\n",
        "model.add(base_model)\n",
        "model.add(Conv2D(32, kernel_size=(3,3), activation='relu', padding='same', input_shape=(48,48,3), data_format='channels_last'))\n",
        "model.add(Conv2D(64, kernel_size=(3,3),padding='same', activation='relu'))\n",
        "model.add(MaxPooling2D(pool_size=(2,2)))\n",
        "model.add(Dropout(0.25))\n",
        "model.add(Conv2D(128, kernel_size=(3,3),padding='same', activation='relu'))\n",
        "model.add(MaxPooling2D(pool_size=(2,2),padding='same'))\n",
        "model.add(Conv2D(128, kernel_size=(3,3),padding='same', activation='relu'))\n",
        "model.add(MaxPooling2D(pool_size=(2,2),padding='same'))\n",
        "model.add(Dropout(0.25))\n",
        "model.add(Flatten())\n",
        "model.add(Dense(1024,activation='relu'))\n",
        "model.add(Dropout(0.50))\n",
        "model.add(Dense(7, activation='softmax'))"
      ],
      "id": "983818da",
      "execution_count": 8,
      "outputs": []
    },
    {
      "cell_type": "code",
      "metadata": {
        "colab": {
          "base_uri": "https://localhost:8080/"
        },
        "id": "de72063d",
        "outputId": "5c4a3bad-b4ac-4b5b-9945-d852f7b1555e"
      },
      "source": [
        "model.compile(loss='categorical_crossentropy', optimizer=Adam(lr=0.0001, decay=1e-6, amsgrad='True'), metrics=['accuracy'])"
      ],
      "id": "de72063d",
      "execution_count": 9,
      "outputs": [
        {
          "output_type": "stream",
          "name": "stderr",
          "text": [
            "/usr/local/lib/python3.7/dist-packages/keras/optimizer_v2/adam.py:105: UserWarning: The `lr` argument is deprecated, use `learning_rate` instead.\n",
            "  super(Adam, self).__init__(name, **kwargs)\n"
          ]
        }
      ]
    },
    {
      "cell_type": "code",
      "metadata": {
        "colab": {
          "base_uri": "https://localhost:8080/"
        },
        "id": "fd992a4d",
        "outputId": "9e4de3b0-98d4-485d-8bb4-e48d94e4b06a"
      },
      "source": [
        "epochs = 12\n",
        "model_info=model.fit_generator(train_ds, steps_per_epoch=449, epochs=epochs, validation_data=val_ds, validation_steps=112)"
      ],
      "id": "fd992a4d",
      "execution_count": 10,
      "outputs": [
        {
          "output_type": "stream",
          "name": "stderr",
          "text": [
            "/usr/local/lib/python3.7/dist-packages/ipykernel_launcher.py:2: UserWarning: `Model.fit_generator` is deprecated and will be removed in a future version. Please use `Model.fit`, which supports generators.\n",
            "  \n"
          ]
        },
        {
          "output_type": "stream",
          "name": "stdout",
          "text": [
            "Epoch 1/12\n",
            "449/449 [==============================] - 2954s 7s/step - loss: 1.6014 - accuracy: 0.3514 - val_loss: 1.8935 - val_accuracy: 0.2458\n",
            "Epoch 2/12\n",
            "449/449 [==============================] - 2979s 7s/step - loss: 1.2300 - accuracy: 0.5365 - val_loss: 1.3218 - val_accuracy: 0.5060\n",
            "Epoch 3/12\n",
            "449/449 [==============================] - 2986s 7s/step - loss: 0.9994 - accuracy: 0.6335 - val_loss: 1.2861 - val_accuracy: 0.5568\n",
            "Epoch 4/12\n",
            "449/449 [==============================] - 2983s 7s/step - loss: 0.7797 - accuracy: 0.7197 - val_loss: 1.2157 - val_accuracy: 0.5808\n",
            "Epoch 5/12\n",
            "449/449 [==============================] - 3026s 7s/step - loss: 0.5879 - accuracy: 0.7946 - val_loss: 1.3761 - val_accuracy: 0.5989\n",
            "Epoch 6/12\n",
            "449/449 [==============================] - 3203s 7s/step - loss: 0.4491 - accuracy: 0.8437 - val_loss: 1.5881 - val_accuracy: 0.5776\n",
            "Epoch 7/12\n",
            "449/449 [==============================] - 3199s 7s/step - loss: 0.3434 - accuracy: 0.8849 - val_loss: 1.5200 - val_accuracy: 0.6094\n",
            "Epoch 8/12\n",
            "449/449 [==============================] - 3199s 7s/step - loss: 0.2567 - accuracy: 0.9208 - val_loss: 1.8139 - val_accuracy: 0.5939\n",
            "Epoch 9/12\n",
            "449/449 [==============================] - 3227s 7s/step - loss: 0.2118 - accuracy: 0.9352 - val_loss: 1.6625 - val_accuracy: 0.6002\n",
            "Epoch 10/12\n",
            "449/449 [==============================] - 3006s 7s/step - loss: 0.1756 - accuracy: 0.9467 - val_loss: 1.8425 - val_accuracy: 0.5850\n",
            "Epoch 11/12\n",
            "449/449 [==============================] - 2997s 7s/step - loss: 0.1453 - accuracy: 0.9566 - val_loss: 1.9099 - val_accuracy: 0.6172\n",
            "Epoch 12/12\n",
            "449/449 [==============================] - 3002s 7s/step - loss: 0.1264 - accuracy: 0.9604 - val_loss: 1.9971 - val_accuracy: 0.6057\n"
          ]
        }
      ]
    },
    {
      "cell_type": "code",
      "metadata": {
        "colab": {
          "base_uri": "https://localhost:8080/"
        },
        "id": "b4e3f412",
        "outputId": "46311e23-5c31-4350-b7eb-bedeea8a9b47"
      },
      "source": [
        "model.save('model.h5')"
      ],
      "id": "b4e3f412",
      "execution_count": 11,
      "outputs": [
        {
          "output_type": "stream",
          "name": "stderr",
          "text": [
            "/usr/local/lib/python3.7/dist-packages/keras/engine/functional.py:1410: CustomMaskWarning: Custom mask layers require a config and must override get_config. When loading, the custom mask layer must be passed to the custom_objects argument.\n",
            "  layer_config = serialize_layer_fn(layer)\n"
          ]
        }
      ]
    },
    {
      "cell_type": "code",
      "metadata": {
        "colab": {
          "base_uri": "https://localhost:8080/",
          "height": 499
        },
        "id": "824e79b3",
        "outputId": "62b753ef-2ff4-4321-b80c-4fd342a8fbaa"
      },
      "source": [
        "acc = model_info.history['accuracy']\n",
        "val_acc = model_info.history['val_accuracy']\n",
        "loss = model_info.history['loss']\n",
        "val_loss = model_info.history['val_loss']\n",
        "epochs_range = range(epochs)\n",
        "plt.figure(figsize=(8, 8))\n",
        "plt.subplot(1, 2, 1)\n",
        "plt.plot(epochs_range, acc, label='Training Accuracy')\n",
        "plt.plot(epochs_range, val_acc, label='Validation Accuracy')\n",
        "plt.legend(loc='lower right')\n",
        "plt.title('Training and Validation Accuracy')\n",
        "plt.subplot(1, 2, 2)\n",
        "plt.plot(epochs_range, loss, label='Training Loss')\n",
        "plt.plot(epochs_range, val_loss, label='Validation Loss')\n",
        "plt.legend(loc='upper right')\n",
        "plt.title('Training and Validation Loss')\n",
        "plt.show()"
      ],
      "id": "824e79b3",
      "execution_count": 12,
      "outputs": [
        {
          "output_type": "display_data",
          "data": {
            "image/png": "[encoded data removed]",
            "text/plain": [
              "<Figure size 576x576 with 2 Axes>"
            ]
          },
          "metadata": {
            "needs_background": "light"
          }
        }
      ]
    }
  ]
}